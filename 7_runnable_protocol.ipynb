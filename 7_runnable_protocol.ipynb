{
 "cells": [
  {
   "cell_type": "markdown",
   "id": "3c8d88e5",
   "metadata": {},
   "source": [
    "# LangChain Expression Language"
   ]
  },
  {
   "cell_type": "markdown",
   "id": "6692eb22",
   "metadata": {},
   "source": [
    "Explain the basic syntax of LangChain Expression Language, which uses the pipe symbol | to connect components. Each component represents a specific task or action.\n",
    "\n",
    "To make it as easy as possible to create custom chains, LangChain implemented a Runnable protocol. The Runnable protocol is implemented for most components. This is a standard interface, which makes it easy to define custom chains as well as invoke them in a standard way. The standard interface includes:\n",
    "\n",
    "* stream: stream back chunks of the response\n",
    "* invoke: call the chain on an input\n",
    "* batch: call the chain on a list of inputs\n",
    "\n",
    "These also have corresponding async methods:\n",
    "\n",
    "* astream: stream back chunks of the response async\n",
    "* ainvoke: call the chain on an input async\n",
    "* abatch: call the chain on a list of inputs async\n",
    "* astream_log: stream back intermediate steps as they happen, in addition to the final response\n"
   ]
  },
  {
   "cell_type": "markdown",
   "id": "4a624a4c",
   "metadata": {},
   "source": [
    "# The Runnable Protocol:\n",
    "A unit of work that can be invoked, batched, streamed, transformed and composed.\n",
    "\n",
    "All methods accept an optional config argument, which can be used to configure execution, add tags and metadata for tracing and debugging etc.\n",
    "\n",
    "Runnables expose schematic information about their input, output and config via the input_schema property, the output_schema property and config_schema method.\n",
    "\n",
    "The LangChain Expression Language (LCEL) is a declarative way to compose Runnables into chains. Any chain constructed this way will automatically have sync, async, batch, and streaming support.\n",
    "\n",
    "The main composition primitives are RunnableSequence and RunnableParallel.\n",
    "\n"
   ]
  },
  {
   "cell_type": "code",
   "execution_count": 1,
   "id": "c001b68c",
   "metadata": {},
   "outputs": [],
   "source": [
    "from langchain_core.runnables import RunnableLambda\n",
    "from dotenv import load_dotenv\n"
   ]
  },
  {
   "cell_type": "code",
   "execution_count": 2,
   "id": "da3bb9c7",
   "metadata": {},
   "outputs": [
    {
     "name": "stdout",
     "output_type": "stream",
     "text": [
      "<class 'langchain_core.runnables.base.RunnableLambda'>\n"
     ]
    }
   ],
   "source": [
    "print(type(RunnableLambda(lambda x: x + 1)))"
   ]
  },
  {
   "cell_type": "code",
   "execution_count": 4,
   "id": "ba00d425",
   "metadata": {},
   "outputs": [],
   "source": [
    "chain = RunnableLambda(lambda x: x + 1)"
   ]
  },
  {
   "cell_type": "code",
   "execution_count": 5,
   "id": "3523eebe",
   "metadata": {},
   "outputs": [
    {
     "name": "stdout",
     "output_type": "stream",
     "text": [
      "2\n",
      "3\n"
     ]
    }
   ],
   "source": [
    "print(chain.invoke(1))\n",
    "print(chain.invoke(2))"
   ]
  },
  {
   "cell_type": "markdown",
   "id": "d348b0ca",
   "metadata": {},
   "source": [
    "# RunnableSequence\n",
    "RunnableSequence invokes a series of runnables sequentially, with one runnable’s output serving as the next’s input. Construct using the | operator or by passing a list of runnables to RunnableSequence."
   ]
  },
  {
   "cell_type": "code",
   "execution_count": 7,
   "id": "ab609440",
   "metadata": {},
   "outputs": [
    {
     "name": "stdout",
     "output_type": "stream",
     "text": [
      "<class 'langchain_core.runnables.base.RunnableSequence'>\n",
      "4\n"
     ]
    },
    {
     "data": {
      "text/plain": [
       "[4, 5, 6]"
      ]
     },
     "execution_count": 7,
     "metadata": {},
     "output_type": "execute_result"
    }
   ],
   "source": [
    "sequence = RunnableLambda(lambda x: x + 1) | (lambda x: x + 2)\n",
    "\n",
    "print(type(sequence))\n",
    "print(sequence.invoke(1))\n",
    "sequence.batch([1, 2, 3])"
   ]
  },
  {
   "cell_type": "markdown",
   "id": "a731eae5",
   "metadata": {},
   "source": [
    "# Runnable Parallel\n",
    "The `RunnableParallel`, allows for multiple runnables to be invoked in parallel, construct using a dictionary of runnables to invoke in parallel."
   ]
  },
  {
   "cell_type": "code",
   "execution_count": 8,
   "id": "773e60ed",
   "metadata": {},
   "outputs": [
    {
     "data": {
      "text/plain": [
       "{'mul_2': 4, 'mul_5': 10}"
      ]
     },
     "execution_count": 8,
     "metadata": {},
     "output_type": "execute_result"
    }
   ],
   "source": [
    "sequence = RunnableLambda(lambda x: x + 1) | {\n",
    "    \"mul_2\": RunnableLambda(lambda x: x * 2),\n",
    "    \"mul_5\": RunnableLambda(lambda x: x * 5),\n",
    "}\n",
    "sequence.invoke(1)"
   ]
  },
  {
   "cell_type": "markdown",
   "id": "41186f56",
   "metadata": {},
   "source": [
    "# Combining functions with parallel"
   ]
  },
  {
   "cell_type": "code",
   "execution_count": 9,
   "id": "09342ac0",
   "metadata": {},
   "outputs": [
    {
     "data": {
      "text/plain": [
       "14"
      ]
     },
     "execution_count": 9,
     "metadata": {},
     "output_type": "execute_result"
    }
   ],
   "source": [
    "sequence = RunnableLambda(lambda x : x + 1) | {\n",
    "    'mul-2': RunnableLambda(lambda x : x * 2),\n",
    "    'mul-5': RunnableLambda(lambda x: x * 5) \n",
    "} | RunnableLambda(lambda x : x['mul-2'] + x['mul-5'])\n",
    "\n",
    "sequence.invoke(1)"
   ]
  },
  {
   "cell_type": "code",
   "execution_count": 13,
   "id": "7957f344",
   "metadata": {},
   "outputs": [
    {
     "name": "stdout",
     "output_type": "stream",
     "text": [
      "<class 'langchain_core.runnables.base.RunnableParallel'>\n",
      "<class 'dict'>\n"
     ]
    }
   ],
   "source": [
    "from langchain_core.runnables import RunnableParallel\n",
    "\n",
    "parallel = RunnableParallel({\n",
    "    'mul-2': RunnableLambda(lambda x: x * 2),\n",
    "    'mul-5': RunnableLambda(lambda x: x * 5)\n",
    "})\n",
    "\n",
    "# This is a dictionary, however it will be composed with other runnables when used in a sequence:\n",
    "parallel_two = {\n",
    "    'mul_2': RunnableLambda(lambda x: x['input_one'] * 2),\n",
    "    'mul_5': RunnableLambda(lambda x: x['input_two'] * 5)\n",
    "}\n",
    "\n",
    "print(type(parallel)) # <class 'langchain.schema.runnable.RunnableParallel'>\n",
    "print(type(parallel_two)) # <class 'dict'>"
   ]
  },
  {
   "cell_type": "code",
   "execution_count": 15,
   "id": "b4994600",
   "metadata": {},
   "outputs": [
    {
     "data": {
      "text/plain": [
       "35"
      ]
     },
     "execution_count": 15,
     "metadata": {},
     "output_type": "execute_result"
    }
   ],
   "source": [
    "\n",
    "chain = parallel | RunnableLambda(lambda x: x['mul-2'] + x['mul-5']) \n",
    "chain.invoke(5)"
   ]
  },
  {
   "cell_type": "code",
   "execution_count": 16,
   "id": "eb58f252",
   "metadata": {},
   "outputs": [
    {
     "data": {
      "text/plain": [
       "60"
      ]
     },
     "execution_count": 16,
     "metadata": {},
     "output_type": "execute_result"
    }
   ],
   "source": [
    "second_chain = parallel_two | RunnableLambda(lambda x: x['mul_2'] + x['mul_5']) \n",
    "second_chain.invoke({'input_one': 5, 'input_two': 10})"
   ]
  },
  {
   "cell_type": "code",
   "execution_count": 17,
   "id": "848cf55b",
   "metadata": {},
   "outputs": [],
   "source": [
    "from langchain_core.runnables import RunnableParallel\n",
    "\n",
    "parallel = RunnableParallel({\n",
    "    'item_one': RunnableLambda(lambda x: f\"Hello {x['name']} \"),\n",
    "    'item_two': RunnableLambda(lambda x: 'Welcome to the World!')\n",
    "})"
   ]
  },
  {
   "cell_type": "code",
   "execution_count": 18,
   "id": "06257bbd",
   "metadata": {},
   "outputs": [],
   "source": [
    "def combine(x):\n",
    "    return x['item_one'] + x['item_two']"
   ]
  },
  {
   "cell_type": "code",
   "execution_count": null,
   "id": "3a55cffd",
   "metadata": {},
   "outputs": [
    {
     "data": {
      "text/plain": [
       "'Hello Pranav Welcome to the World!'"
      ]
     },
     "execution_count": 19,
     "metadata": {},
     "output_type": "execute_result"
    }
   ],
   "source": [
    "parallel_chain_example = parallel | combine\n",
    "parallel_chain_example.invoke({'name': \"Pranav\"}) "
   ]
  },
  {
   "cell_type": "code",
   "execution_count": null,
   "id": "36486474",
   "metadata": {},
   "outputs": [
    {
     "data": {
      "text/plain": [
       "'Hello World'"
      ]
     },
     "execution_count": 20,
     "metadata": {},
     "output_type": "execute_result"
    }
   ],
   "source": [
    "lambda_example = RunnableLambda(lambda x: {'item_one': 'Hello ', 'item_two': 'World'})\n",
    "lambda_chain_example = lambda_example | combine\n",
    "lambda_chain_example.invoke({})"
   ]
  }
 ],
 "metadata": {
  "kernelspec": {
   "display_name": "Python 3",
   "language": "python",
   "name": "python3"
  },
  "language_info": {
   "codemirror_mode": {
    "name": "ipython",
    "version": 3
   },
   "file_extension": ".py",
   "mimetype": "text/x-python",
   "name": "python",
   "nbconvert_exporter": "python",
   "pygments_lexer": "ipython3",
   "version": "3.10.10"
  }
 },
 "nbformat": 4,
 "nbformat_minor": 5
}
