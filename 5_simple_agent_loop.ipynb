{
 "cells": [
  {
   "cell_type": "markdown",
   "id": "e8425eba",
   "metadata": {},
   "source": [
    "# Tool Call"
   ]
  },
  {
   "cell_type": "markdown",
   "id": "b19e8a38",
   "metadata": {},
   "source": [
    "Procedure:\n",
    "1. Define the tool\n",
    "2. Then write its function description\n",
    "3. Call the LLM using tools and inputs\n",
    "4. Check if the LLM is asking for tool call in the response.output[0]\n",
    "5. If it is calling tool then execute the function with args provided by the LLM. (args = json.loads(response.output[0].arguments)) and get the response from the defined tool \n",
    "6. Append the input message with LLM output message.append(response.output[0])\n",
    "7. Append result message\n",
    "    messages.append({\n",
    "    \"type\":\"function_call_output\",\n",
    "    \"call_id\":response.output[0].call_id,\n",
    "    \"output\": str(output)\n",
    "    })\n",
    "8. Call LLM again with the message\n",
    "    "
   ]
  },
  {
   "cell_type": "code",
   "execution_count": 1,
   "id": "d4eecb6d",
   "metadata": {},
   "outputs": [
    {
     "data": {
      "text/plain": [
       "True"
      ]
     },
     "execution_count": 1,
     "metadata": {},
     "output_type": "execute_result"
    }
   ],
   "source": [
    "from openai import OpenAI\n",
    "from dotenv import load_dotenv\n",
    "import requests\n",
    "import json\n",
    "load_dotenv()"
   ]
  },
  {
   "cell_type": "code",
   "execution_count": 2,
   "id": "c3e21a50",
   "metadata": {},
   "outputs": [],
   "source": [
    "client = OpenAI()\n"
   ]
  },
  {
   "cell_type": "code",
   "execution_count": 3,
   "id": "e0dfe7e1",
   "metadata": {},
   "outputs": [],
   "source": [
    "def get_weather(latitude, longitude):\n",
    "    weather = requests.get(f\"https://api.open-meteo.com/v1/forecast?latitude={latitude}&longitude={longitude}&current=temperature_2m\")\n",
    "    data = weather.json()\n",
    "    return data['current']['temperature_2m']"
   ]
  },
  {
   "cell_type": "code",
   "execution_count": 4,
   "id": "59035460",
   "metadata": {},
   "outputs": [],
   "source": [
    "messages = [\n",
    "    {\n",
    "        \"role\":\"developer\",\n",
    "        \"content\": \"What is the weather like in New Delhi? \"\n",
    "    }\n",
    "]\n",
    "\n",
    "tools = [\n",
    "    {\n",
    "        \"type\" : \"function\",\n",
    "        \"name\" : \"get_weather\",\n",
    "        \"description\":\"fetches the weather information from the website\",\n",
    "        \"parameters\": {\n",
    "            \"type\":\"object\",\n",
    "            \"properties\":\n",
    "            {\n",
    "                \"latitude\":{\"type\":\"number\", \"description\":\"Latitude of the location\"},\n",
    "                \"longitude\":{\"type\": \"number\", \"description\":\"Longitude of the location\"}\n",
    "            },\n",
    "            \"required\":[\"latitude\", \"longitude\"],\n",
    "            \"additionalProperties\":False\n",
    "        },\n",
    "        \"strict\":True\n",
    "\n",
    "    }\n",
    "]"
   ]
  },
  {
   "cell_type": "code",
   "execution_count": 5,
   "id": "eddd9c23",
   "metadata": {},
   "outputs": [],
   "source": [
    "response = client.responses.create(\n",
    "    model = \"gpt-4o\",\n",
    "    input = messages,\n",
    "    tools = tools    \n",
    ")"
   ]
  },
  {
   "cell_type": "code",
   "execution_count": null,
   "id": "481cef4a",
   "metadata": {},
   "outputs": [
    {
     "name": "stdout",
     "output_type": "stream",
     "text": [
      "ResponseFunctionToolCall(arguments='{\"latitude\":28.6139,\"longitude\":77.209}', call_id='call_oSFRmRgayVwVFkeaL6xbd4Cr', name='get_weather', type='function_call', id='fc_6842e3e10964819dbd777f5100adb4000a3f53d0e20f2878', status='completed')\n"
     ]
    }
   ],
   "source": [
    "print(response.output[0])"
   ]
  },
  {
   "cell_type": "code",
   "execution_count": 16,
   "id": "40d3e61b",
   "metadata": {},
   "outputs": [],
   "source": [
    "args = json.loads(response.output[0].arguments)"
   ]
  },
  {
   "cell_type": "code",
   "execution_count": 18,
   "id": "34920685",
   "metadata": {},
   "outputs": [
    {
     "name": "stdout",
     "output_type": "stream",
     "text": [
      "34.5\n"
     ]
    }
   ],
   "source": [
    "output = get_weather(args['latitude'], args['longitude'])\n",
    "print(output)"
   ]
  },
  {
   "cell_type": "code",
   "execution_count": 19,
   "id": "a04b2641",
   "metadata": {},
   "outputs": [],
   "source": [
    "messages.append(response.output[0])\n",
    "messages.append({\n",
    "    \"type\":\"function_call_output\",\n",
    "    \"call_id\":response.output[0].call_id,\n",
    "    \"output\": str(output)\n",
    "})"
   ]
  },
  {
   "cell_type": "code",
   "execution_count": 20,
   "id": "7003647a",
   "metadata": {},
   "outputs": [
    {
     "name": "stdout",
     "output_type": "stream",
     "text": [
      "[{'role': 'developer', 'content': 'What is the weather like in New Delhi? '}, ResponseFunctionToolCall(arguments='{\"latitude\":28.6139,\"longitude\":77.209}', call_id='call_oSFRmRgayVwVFkeaL6xbd4Cr', name='get_weather', type='function_call', id='fc_6842e3e10964819dbd777f5100adb4000a3f53d0e20f2878', status='completed'), {'type': 'function_call_output', 'call_id': 'call_oSFRmRgayVwVFkeaL6xbd4Cr', 'output': '34.5'}]\n"
     ]
    }
   ],
   "source": [
    "print(messages)"
   ]
  },
  {
   "cell_type": "code",
   "execution_count": 15,
   "id": "10f10583",
   "metadata": {},
   "outputs": [
    {
     "name": "stdout",
     "output_type": "stream",
     "text": [
      "{'latitude': 28.6139, 'longitude': 77.209}\n"
     ]
    }
   ],
   "source": [
    "print(weather)"
   ]
  },
  {
   "cell_type": "code",
   "execution_count": 21,
   "id": "b4206fc5",
   "metadata": {},
   "outputs": [
    {
     "name": "stdout",
     "output_type": "stream",
     "text": [
      "The current temperature in New Delhi is 34.5°C.\n"
     ]
    }
   ],
   "source": [
    "response2 = client.responses.create(\n",
    "    model = \"gpt-4o\",\n",
    "    tools = tools,\n",
    "    input = messages\n",
    ")\n",
    "\n",
    "print(response2.output_text)"
   ]
  },
  {
   "cell_type": "code",
   "execution_count": null,
   "id": "5f0ac59a",
   "metadata": {},
   "outputs": [],
   "source": [
    "[\n",
    "    ResponseFunctionToolCall(\n",
    "        arguments='{\"latitude\":28.6139,\"longitude\":77.209}',\n",
    "        call_id='call_oSFRmRgayVwVFkeaL6xbd4Cr',\n",
    "        name='get_weather',\n",
    "        type='function_call',\n",
    "        id='fc_6842e3e10964819dbd777f5100adb4000a3f53d0e20f2878',\n",
    "        status='completed'\n",
    "    )\n",
    "]\n"
   ]
  },
  {
   "cell_type": "code",
   "execution_count": null,
   "id": "fddbc6f7",
   "metadata": {},
   "outputs": [],
   "source": [
    "[\n",
    "    {\n",
    "        'role': 'developer',\n",
    "        'content': 'What is the weather like in New Delhi?'\n",
    "    },\n",
    "  ResponseFunctionToolCall(\n",
    "        arguments='{\"latitude\":28.6139,\"longitude\":77.209}',\n",
    "        call_id='call_oSFRmRgayVwVFkeaL6xbd4Cr',\n",
    "        name='get_weather',\n",
    "        type='function_call',\n",
    "        id='fc_6842e3e10964819dbd777f5100adb4000a3f53d0e20f2878',\n",
    "        status='completed'\n",
    "      ),\n",
    "      {\n",
    "          'type': 'function_call_output',\n",
    "          'call_id': 'call_oSFRmRgayVwVFkeaL6xbd4Cr',\n",
    "          'output': '34.5'\n",
    "      }\n",
    "]"
   ]
  },
  {
   "cell_type": "markdown",
   "id": "9a889293",
   "metadata": {},
   "source": [
    "# Agent 1: Simple Agent Loop\n",
    "\n",
    "This agent sends a prompt (asking about the weather), then enters an agentic loop\n",
    "\n",
    "At each turn, it calls the Responses API:\n",
    "1. **If the response contains a tool call:** The agent executes the function (using our get_weather tool) and appends the function result to the conversation as a new message.\n",
    "\n",
    "2. **If the response provides output text:** The agent stops, printing the final output.\n",
    "\n",
    "Below is the code for the simple agent"
   ]
  },
  {
   "cell_type": "code",
   "execution_count": 14,
   "id": "96ca0588",
   "metadata": {},
   "outputs": [
    {
     "name": "stdout",
     "output_type": "stream",
     "text": [
      "Executed get_weather: Result = 34.8 C\n",
      "Final Agent Output:  The current temperature in New Delhi is approximately 34.8°C. If you want more details about the weather such as humidity, wind speed, or forecast, please let me know!\n"
     ]
    }
   ],
   "source": [
    "while True:\n",
    "    response = client.responses.create(\n",
    "        model = \"gpt-4.1-mini\",\n",
    "        input = messages,\n",
    "        tools = tools\n",
    "    )\n",
    "\n",
    "    if response.output:\n",
    "        for output_item in response.output:\n",
    "            if output_item.type == \"function_call\":\n",
    "                messages.append(output_item)\n",
    "\n",
    "                tool_call = output_item\n",
    "                args = json.loads(tool_call.arguments)\n",
    "                result = get_weather(args['latitude'],args['longitude'])\n",
    "                print(f\"Executed {tool_call.name}: Result = {result} C\")\n",
    "\n",
    "                messages.append({\n",
    "                    \"type\":\"function_call_output\",\n",
    "                    \"call_id\": tool_call.call_id,\n",
    "                    \"output\":str(result)\n",
    "                })\n",
    "    if response.output_text:\n",
    "        print(\"Final Agent Output: \", response.output_text)\n",
    "        break\n",
    "\n",
    "    if not response.output:\n",
    "        break\n"
   ]
  },
  {
   "cell_type": "markdown",
   "id": "d36f7fb3",
   "metadata": {},
   "source": [
    "# Agent 2: Agent with Custom Objective Function\n",
    "\n",
    "This agent uses a custom objective function to decide whether to continue looping. In this example, the objective function checks if the agent's output text contains the phrase \"task complete\".\n",
    "\n",
    "The agent will continue to request responses (and execute any tool calls) until the objective is met. Note that this is a simplified demonstration intended for teaching purposes.\n"
   ]
  },
  {
   "cell_type": "code",
   "execution_count": 22,
   "id": "4f2de3b0",
   "metadata": {},
   "outputs": [],
   "source": [
    "def get_weather(latitude, longitude):\n",
    "    weather = requests.get(f\"https://api.open-meteo.com/v1/forecast?latitude={latitude}&longitude={longitude}&current=temperature_2m\")\n",
    "    data = weather.json()\n",
    "    return data['current']['temperature_2m']"
   ]
  },
  {
   "cell_type": "code",
   "execution_count": 23,
   "id": "023ed2f2",
   "metadata": {},
   "outputs": [],
   "source": [
    "tools = [\n",
    "    {\n",
    "        \"type\" : \"function\",\n",
    "        \"name\" : \"get_weather\",\n",
    "        \"description\":\"fetches the weather information from the website\",\n",
    "        \"parameters\": {\n",
    "            \"type\":\"object\",\n",
    "            \"properties\":\n",
    "            {\n",
    "                \"latitude\":{\"type\":\"number\", \"description\":\"Latitude of the location\"},\n",
    "                \"longitude\":{\"type\": \"number\", \"description\":\"Longitude of the location\"}\n",
    "            },\n",
    "            \"required\":[\"latitude\", \"longitude\"],\n",
    "            \"additionalProperties\":False\n",
    "        },\n",
    "        \"strict\":True\n",
    "\n",
    "    }\n",
    "]"
   ]
  },
  {
   "cell_type": "code",
   "execution_count": 24,
   "id": "45511596",
   "metadata": {},
   "outputs": [],
   "source": [
    "def objective_met(search_count, max_search = 5):\n",
    "    return search_count>max_search"
   ]
  },
  {
   "cell_type": "code",
   "execution_count": 28,
   "id": "29e1afff",
   "metadata": {},
   "outputs": [
    {
     "name": "stdout",
     "output_type": "stream",
     "text": [
      "Executed get_weather: 21.5°C\n",
      "Executed get_weather: 25.9°C\n",
      "Executed get_weather: 20.5°C\n",
      "Executed get_weather: 13.1°C\n",
      "Executed get_weather: 22.0°C\n",
      "Executed get_weather: 26.2°C\n",
      "Objective met: searched 6 cities. Task complete.\n"
     ]
    }
   ],
   "source": [
    "# Initial conversation: developer sets the task, user gives the first city\n",
    "messages= [\n",
    "    {\n",
    "        \"role\": \"developer\",\n",
    "        \"content\": (\n",
    "            \"Your goal is to gather weather for at least 5 different cities. \"\n",
    "            \"Once you've done that, respond with 'task complete'.\"\n",
    "        )\n",
    "    },\n",
    "    {\"role\": \"user\", \"content\": \"Search the weather in Berlin.\"}\n",
    "]\n",
    "\n",
    "search_count = 0\n",
    "\n",
    "while True:\n",
    "    response = client.responses.create(\n",
    "        model=\"gpt-4o\",\n",
    "        input=messages,\n",
    "        tools=tools\n",
    "    )\n",
    "    \n",
    "    # 1) Handle any function calls (e.g. get_weather)\n",
    "    for item in response.output or []:\n",
    "        if getattr(item, 'type', None) == \"function_call\":\n",
    "            messages.append(item)  # pass the function call back into context\n",
    "            \n",
    "            # parse and execute\n",
    "            args = json.loads(item.arguments)\n",
    "            temp = get_weather(args['latitude'], args['longitude'])\n",
    "            print(f\"Executed {item.name}: {temp}°C\")\n",
    "            \n",
    "            # append function result\n",
    "            messages.append({\n",
    "                \"type\": \"function_call_output\",\n",
    "                \"call_id\": item.call_id,\n",
    "                \"output\": str(temp)\n",
    "            })\n",
    "            \n",
    "            search_count += 1\n",
    "    \n",
    "    # 2) Check for assistant output_text\n",
    "    if hasattr(response, 'output_text') and response.output_text:\n",
    "        text = response.output_text\n",
    "        print(\"Agent says:\", text)\n",
    "        messages.append({\"role\": \"assistant\", \"content\": text})\n",
    "    \n",
    "    # 3) Check objective\n",
    "    if objective_met(search_count):\n",
    "        print(f\"Objective met: searched {search_count} cities. Task complete.\")\n",
    "        break\n",
    "    \n",
    "    # 4) If not done, prompt for the next city\n",
    "    messages.append({\n",
    "        \"role\": \"user\",\n",
    "        \"content\": f\"We've searched {search_count} so far. Please search another city.\"\n",
    "    })"
   ]
  }
 ],
 "metadata": {
  "kernelspec": {
   "display_name": "Python 3",
   "language": "python",
   "name": "python3"
  },
  "language_info": {
   "codemirror_mode": {
    "name": "ipython",
    "version": 3
   },
   "file_extension": ".py",
   "mimetype": "text/x-python",
   "name": "python",
   "nbconvert_exporter": "python",
   "pygments_lexer": "ipython3",
   "version": "3.10.10"
  }
 },
 "nbformat": 4,
 "nbformat_minor": 5
}
