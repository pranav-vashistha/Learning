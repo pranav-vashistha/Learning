{
 "cells": [
  {
   "cell_type": "markdown",
   "id": "3e928cf6",
   "metadata": {},
   "source": [
    "### Installation"
   ]
  },
  {
   "cell_type": "code",
   "execution_count": 1,
   "id": "1043c92c",
   "metadata": {},
   "outputs": [
    {
     "name": "stdout",
     "output_type": "stream",
     "text": [
      "Note: you may need to restart the kernel to use updated packages.\n"
     ]
    }
   ],
   "source": [
    "%pip install langchain langchain_openai langchain-community --upgrade --quiet\n"
   ]
  },
  {
   "cell_type": "code",
   "execution_count": 2,
   "id": "b02c07e8",
   "metadata": {},
   "outputs": [
    {
     "data": {
      "text/plain": [
       "True"
      ]
     },
     "execution_count": 2,
     "metadata": {},
     "output_type": "execute_result"
    }
   ],
   "source": [
    "from dotenv import load_dotenv\n",
    "from langchain_openai.chat_models import ChatOpenAI\n",
    "\n",
    "load_dotenv()"
   ]
  },
  {
   "cell_type": "code",
   "execution_count": 4,
   "id": "b1af529d",
   "metadata": {},
   "outputs": [
    {
     "data": {
      "text/plain": [
       "AIMessage(content=\"I'm just a computer program, so I don't have feelings, but I'm here to help you with anything you need. How can I assist you today?\", additional_kwargs={'refusal': None}, response_metadata={'token_usage': {'completion_tokens': 33, 'prompt_tokens': 11, 'total_tokens': 44, 'completion_tokens_details': {'accepted_prediction_tokens': 0, 'audio_tokens': 0, 'reasoning_tokens': 0, 'rejected_prediction_tokens': 0}, 'prompt_tokens_details': {'audio_tokens': 0, 'cached_tokens': 0}}, 'model_name': 'gpt-3.5-turbo-0125', 'system_fingerprint': None, 'id': 'chatcmpl-BffnFVlxOxThWcTVH81ROl0tVTqn4', 'service_tier': 'default', 'finish_reason': 'stop', 'logprobs': None}, id='run--6690f948-079c-4646-bc61-5aab823838fb-0', usage_metadata={'input_tokens': 11, 'output_tokens': 33, 'total_tokens': 44, 'input_token_details': {'audio': 0, 'cache_read': 0}, 'output_token_details': {'audio': 0, 'reasoning': 0}})"
      ]
     },
     "execution_count": 4,
     "metadata": {},
     "output_type": "execute_result"
    }
   ],
   "source": [
    "chat = ChatOpenAI()\n",
    "chat.invoke(\"How are you?\")"
   ]
  },
  {
   "cell_type": "markdown",
   "id": "ec921cb6",
   "metadata": {},
   "source": [
    "### Chat models"
   ]
  },
  {
   "cell_type": "code",
   "execution_count": 12,
   "id": "18d55daa",
   "metadata": {},
   "outputs": [],
   "source": [
    "from langchain_core.messages import SystemMessage, HumanMessage\n",
    "\n",
    "text = \"What would be a good name for an AI Agnet? And what will be its function?\"\n",
    "messages = [HumanMessage(content=text)]\n",
    "result = chat.invoke(messages)"
   ]
  },
  {
   "cell_type": "code",
   "execution_count": 13,
   "id": "acd09cf3",
   "metadata": {},
   "outputs": [
    {
     "name": "stdout",
     "output_type": "stream",
     "text": [
      "content=\"Name: CyberAssist\\n\\nFunction: CyberAssist is an AI agent designed to assist users with various tasks such as scheduling appointments, organizing emails, managing tasks, providing suggestions, answering questions, and offering personalized recommendations based on the user's preferences and behavior. It can also help with troubleshooting technical issues, conducting online research, and providing real-time updates on news and events. CyberAssist aims to streamline and simplify the user's digital interactions and enhance productivity.\" additional_kwargs={'refusal': None} response_metadata={'token_usage': {'completion_tokens': 92, 'prompt_tokens': 26, 'total_tokens': 118, 'completion_tokens_details': {'accepted_prediction_tokens': 0, 'audio_tokens': 0, 'reasoning_tokens': 0, 'rejected_prediction_tokens': 0}, 'prompt_tokens_details': {'audio_tokens': 0, 'cached_tokens': 0}}, 'model_name': 'gpt-3.5-turbo-0125', 'system_fingerprint': None, 'id': 'chatcmpl-Bfg7MGz6tq0HLcOTSlbUxyf9FI87T', 'service_tier': 'default', 'finish_reason': 'stop', 'logprobs': None} id='run--ab207198-c957-47aa-8d80-bf79e236bf27-0' usage_metadata={'input_tokens': 26, 'output_tokens': 92, 'total_tokens': 118, 'input_token_details': {'audio': 0, 'cache_read': 0}, 'output_token_details': {'audio': 0, 'reasoning': 0}}\n"
     ]
    }
   ],
   "source": [
    "print(result)"
   ]
  },
  {
   "cell_type": "code",
   "execution_count": 14,
   "id": "2ffb24a2",
   "metadata": {},
   "outputs": [
    {
     "name": "stdout",
     "output_type": "stream",
     "text": [
      "Name: CyberAssist\n",
      "\n",
      "Function: CyberAssist is an AI agent designed to assist users with various tasks such as scheduling appointments, organizing emails, managing tasks, providing suggestions, answering questions, and offering personalized recommendations based on the user's preferences and behavior. It can also help with troubleshooting technical issues, conducting online research, and providing real-time updates on news and events. CyberAssist aims to streamline and simplify the user's digital interactions and enhance productivity.\n"
     ]
    }
   ],
   "source": [
    "print(result.content)"
   ]
  },
  {
   "cell_type": "code",
   "execution_count": 15,
   "id": "c098993b",
   "metadata": {},
   "outputs": [],
   "source": [
    "text = \"What would be a good name for an AI Agnet? And what will be its function?\"\n",
    "\n",
    "messages = [SystemMessage(content = text)]\n",
    "response = chat.invoke(messages)"
   ]
  },
  {
   "cell_type": "code",
   "execution_count": 16,
   "id": "b8a694fb",
   "metadata": {},
   "outputs": [
    {
     "name": "stdout",
     "output_type": "stream",
     "text": [
      "Name: IntelliAssist\n",
      "\n",
      "Function: IntelliAssist would be an AI agent designed to assist users in various tasks such as scheduling, organizing data, providing information, and helping with decision-making. Its primary function would be to streamline and optimize daily tasks for users, improving efficiency and productivity.\n"
     ]
    }
   ],
   "source": [
    "print(response.content)"
   ]
  }
 ],
 "metadata": {
  "kernelspec": {
   "display_name": "Python 3",
   "language": "python",
   "name": "python3"
  },
  "language_info": {
   "codemirror_mode": {
    "name": "ipython",
    "version": 3
   },
   "file_extension": ".py",
   "mimetype": "text/x-python",
   "name": "python",
   "nbconvert_exporter": "python",
   "pygments_lexer": "ipython3",
   "version": "3.10.10"
  }
 },
 "nbformat": 4,
 "nbformat_minor": 5
}
