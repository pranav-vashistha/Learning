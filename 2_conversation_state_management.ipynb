{
 "cells": [
  {
   "cell_type": "markdown",
   "id": "47a92f33",
   "metadata": {},
   "source": [
    "# We explore the Conversation State management using both the Chat Completions API and Responses API. "
   ]
  },
  {
   "cell_type": "code",
   "execution_count": 1,
   "id": "ad777d51",
   "metadata": {},
   "outputs": [],
   "source": [
    "from openai import OpenAI\n",
    "from dotenv import load_dotenv\n"
   ]
  },
  {
   "cell_type": "code",
   "execution_count": 2,
   "id": "288cfe78",
   "metadata": {},
   "outputs": [
    {
     "data": {
      "text/plain": [
       "True"
      ]
     },
     "execution_count": 2,
     "metadata": {},
     "output_type": "execute_result"
    }
   ],
   "source": [
    "load_dotenv()"
   ]
  },
  {
   "cell_type": "code",
   "execution_count": null,
   "id": "60c727cd",
   "metadata": {},
   "outputs": [],
   "source": [
    "client = OpenAI()\n"
   ]
  },
  {
   "cell_type": "markdown",
   "id": "ad6344b2",
   "metadata": {},
   "source": [
    "### Message History is to be maintained manually in chat completions api while it is automatic in responses api hence it is useful in AI Agents developement"
   ]
  },
  {
   "cell_type": "markdown",
   "id": "e625b6e1",
   "metadata": {},
   "source": [
    "Example of Message history appending using chat completions API"
   ]
  },
  {
   "cell_type": "markdown",
   "id": "c21ce604",
   "metadata": {},
   "source": [
    "Chat completions API uses : messages as input (argument)\n",
    "\n",
    "Responses API uses: input as input (argument)\n",
    "\n",
    "Chat completions API's output is accessed through = response.choices[0].message.content\n",
    "\n",
    "Responses API's output is accessed through = response.output_text"
   ]
  },
  {
   "cell_type": "code",
   "execution_count": 26,
   "id": "b38845a4",
   "metadata": {},
   "outputs": [],
   "source": [
    "messages = [\n",
    "    {\n",
    "        \"role\":\"user\",\n",
    "        \"content\": \"Tell me a joke\"\n",
    "    }\n",
    "]"
   ]
  },
  {
   "cell_type": "code",
   "execution_count": 27,
   "id": "302151ab",
   "metadata": {},
   "outputs": [
    {
     "name": "stdout",
     "output_type": "stream",
     "text": [
      "Why don't skeletons fight each other?\n",
      "\n",
      "They don't have the guts.\n"
     ]
    }
   ],
   "source": [
    "responses = client.chat.completions.create(\n",
    "    model = \"gpt-4o\",\n",
    "    messages = messages\n",
    ")\n",
    "\n",
    "print(responses.choices[0].message.content)"
   ]
  },
  {
   "cell_type": "code",
   "execution_count": 28,
   "id": "46fbcd1f",
   "metadata": {},
   "outputs": [],
   "source": [
    "messages = [\n",
    "    {\n",
    "        \"role\":\"user\",\n",
    "        \"content\": \"Tell me a joke\"\n",
    "    },\n",
    "    {\n",
    "        \"role\":\"assistant\",\n",
    "        \"content\": responses.choices[0].message.content\n",
    "    }\n",
    "]"
   ]
  },
  {
   "cell_type": "code",
   "execution_count": 30,
   "id": "c3790a09",
   "metadata": {},
   "outputs": [],
   "source": [
    "response1 = client.chat.completions.create(\n",
    "    model = \"gpt-4o\",\n",
    "    messages = messages\n",
    ")"
   ]
  },
  {
   "cell_type": "code",
   "execution_count": 31,
   "id": "17ea92ac",
   "metadata": {},
   "outputs": [
    {
     "name": "stdout",
     "output_type": "stream",
     "text": [
      "Why did the scarecrow win an award?\n",
      "\n",
      "Because he was outstanding in his field!\n"
     ]
    }
   ],
   "source": [
    "print(response1.choices[0].message.content)"
   ]
  },
  {
   "cell_type": "markdown",
   "id": "bb35932f",
   "metadata": {},
   "source": [
    "Example of state management using Response API\n"
   ]
  },
  {
   "cell_type": "code",
   "execution_count": 32,
   "id": "a79f0f65",
   "metadata": {},
   "outputs": [],
   "source": [
    "query = [\n",
    "    {\n",
    "        \"role\":\"user\",\n",
    "        \"content\":\"tell me a joke\"\n",
    "    }\n",
    "]"
   ]
  },
  {
   "cell_type": "code",
   "execution_count": 33,
   "id": "11f06b99",
   "metadata": {},
   "outputs": [],
   "source": [
    "response = client.responses.create(\n",
    "    model = \"gpt-4o\",\n",
    "    input = query\n",
    ")"
   ]
  },
  {
   "cell_type": "code",
   "execution_count": 35,
   "id": "53f3e793",
   "metadata": {},
   "outputs": [
    {
     "name": "stdout",
     "output_type": "stream",
     "text": [
      "Why don't skeletons fight each other?\n",
      "\n",
      "They don't have the guts.\n"
     ]
    }
   ],
   "source": [
    "print(response.output_text)"
   ]
  },
  {
   "cell_type": "code",
   "execution_count": 36,
   "id": "e2af65ea",
   "metadata": {},
   "outputs": [],
   "source": [
    "query2 = [\n",
    "    {\n",
    "        \"role\":\"user\",\n",
    "        \"content\":\"tell me another joke\"\n",
    "    }\n",
    "]"
   ]
  },
  {
   "cell_type": "markdown",
   "id": "02d86def",
   "metadata": {},
   "source": [
    "##### Chaining the response in the next input. We utilise the previous_response_id parameter to chain the previous response and pass it the name of the earlier response along with .id"
   ]
  },
  {
   "cell_type": "code",
   "execution_count": 39,
   "id": "6f19ba1a",
   "metadata": {},
   "outputs": [
    {
     "name": "stdout",
     "output_type": "stream",
     "text": [
      "Why did the scarecrow win an award?\n",
      "\n",
      "Because he was outstanding in his field!\n"
     ]
    }
   ],
   "source": [
    "response1 = client.responses.create(\n",
    "    model = \"gpt-4o\",\n",
    "    previous_response_id = response.id,\n",
    "    input = query2\n",
    ")\n",
    "\n",
    "print(response1.output_text)"
   ]
  },
  {
   "cell_type": "code",
   "execution_count": null,
   "id": "6121328f",
   "metadata": {},
   "outputs": [],
   "source": []
  }
 ],
 "metadata": {
  "kernelspec": {
   "display_name": "Python 3",
   "language": "python",
   "name": "python3"
  },
  "language_info": {
   "codemirror_mode": {
    "name": "ipython",
    "version": 3
   },
   "file_extension": ".py",
   "mimetype": "text/x-python",
   "name": "python",
   "nbconvert_exporter": "python",
   "pygments_lexer": "ipython3",
   "version": "3.10.10"
  }
 },
 "nbformat": 4,
 "nbformat_minor": 5
}
