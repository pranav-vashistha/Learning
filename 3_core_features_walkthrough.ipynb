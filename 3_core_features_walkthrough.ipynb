{
 "cells": [
  {
   "cell_type": "code",
   "execution_count": 10,
   "id": "59152a26",
   "metadata": {},
   "outputs": [
    {
     "name": "stdout",
     "output_type": "stream",
     "text": [
      "Note: you may need to restart the kernel to use updated packages.\n"
     ]
    }
   ],
   "source": [
    "pip install pydantic matplotlib numpy --quiet"
   ]
  },
  {
   "cell_type": "code",
   "execution_count": 1,
   "id": "bf2a64b6",
   "metadata": {},
   "outputs": [],
   "source": [
    "from openai import OpenAI\n",
    "from dotenv import load_dotenv\n",
    "import pydantic\n",
    "import json\n"
   ]
  },
  {
   "cell_type": "code",
   "execution_count": 2,
   "id": "1540f7a4",
   "metadata": {},
   "outputs": [],
   "source": [
    "load_dotenv()\n",
    "client = OpenAI()"
   ]
  },
  {
   "cell_type": "code",
   "execution_count": 6,
   "id": "d6a8941a",
   "metadata": {},
   "outputs": [],
   "source": [
    "Model = \"gpt-4.1-mini\""
   ]
  },
  {
   "cell_type": "markdown",
   "id": "c0654ff8",
   "metadata": {},
   "source": [
    "## 1. Basic Text Generation"
   ]
  },
  {
   "cell_type": "code",
   "execution_count": 12,
   "id": "68112f66",
   "metadata": {},
   "outputs": [
    {
     "name": "stdout",
     "output_type": "stream",
     "text": [
      "Single line story is:  Beneath the fading stars, she whispered goodbye to the past and stepped into the dawn of her new life.\n"
     ]
    }
   ],
   "source": [
    "prompt = \"generate a single line story\"\n",
    "\n",
    "response = client.responses.create(\n",
    "    model = Model,\n",
    "    input = prompt,\n",
    "    top_p = 0.9,\n",
    "    temperature = 0.7\n",
    ")\n",
    "\n",
    "print(\"Single line story is: \", response.output_text)"
   ]
  },
  {
   "cell_type": "markdown",
   "id": "46c777ee",
   "metadata": {},
   "source": [
    "## 2. Getting Structured Outputs"
   ]
  },
  {
   "cell_type": "markdown",
   "id": "0e075298",
   "metadata": {},
   "source": [
    "To get structured output you can use pydantic. \n",
    "The response is generated using .parse instead of .create\n"
   ]
  },
  {
   "cell_type": "markdown",
   "id": "ff681513",
   "metadata": {},
   "source": [
    "### Using Chat Completions"
   ]
  },
  {
   "cell_type": "code",
   "execution_count": 14,
   "id": "f7284b47",
   "metadata": {},
   "outputs": [],
   "source": [
    "Model = \"gpt-4.1-mini\""
   ]
  },
  {
   "cell_type": "code",
   "execution_count": 26,
   "id": "1791ff78",
   "metadata": {},
   "outputs": [],
   "source": [
    "from pydantic import BaseModel\n",
    "\n",
    "class Step(BaseModel):\n",
    "    explaination: str\n",
    "    output: str\n",
    "\n",
    "class MathReasoning(BaseModel):\n",
    "    steps: list[Step]\n",
    "    final_answer: str \n",
    "\n",
    "input1  =[\n",
    "    {\n",
    "        \"role\":\"system\",\n",
    "        \"content\": \"You are an expert math tutor and you will guide the user step by step\"\n",
    "    },\n",
    "    {\n",
    "        \"role\":\"user\",\n",
    "        \"content\":\"How can I solve 4 + (3 -2) * 10 - 9 + 8\"\n",
    "    }\n",
    "]\n",
    "\n"
   ]
  },
  {
   "cell_type": "code",
   "execution_count": 31,
   "id": "18c74a1f",
   "metadata": {},
   "outputs": [],
   "source": [
    "response = client.beta.chat.completions.parse(\n",
    "    model = Model,\n",
    "    messages = input1,\n",
    "    response_format = MathReasoning,\n",
    ")\n",
    "\n"
   ]
  },
  {
   "cell_type": "code",
   "execution_count": 32,
   "id": "14adc3ee",
   "metadata": {},
   "outputs": [
    {
     "name": "stdout",
     "output_type": "stream",
     "text": [
      "ParsedChatCompletionMessage[MathReasoning](content='{\"steps\":[{\"explaination\":\"First, solve the operation inside the parentheses: (3 - 2).\",\"output\":\"3 - 2 = 1\"},{\"explaination\":\"Now replace the parentheses with the result, the expression becomes 4 + 1 * 10 - 9 + 8.\",\"output\":\"4 + 1 * 10 - 9 + 8\"},{\"explaination\":\"Next, perform the multiplication before addition and subtraction according to the order of operations.\",\"output\":\"1 * 10 = 10\"},{\"explaination\":\"The expression now is 4 + 10 - 9 + 8. Perform addition and subtraction from left to right.\",\"output\":\"4 + 10 = 14\"},{\"explaination\":\"Continue with the next operation: 14 - 9.\",\"output\":\"14 - 9 = 5\"},{\"explaination\":\"Finally, add the last number: 5 + 8.\",\"output\":\"5 + 8 = 13\"}],\"final_answer\":\"13\"}', refusal=None, role='assistant', annotations=[], audio=None, function_call=None, tool_calls=None, parsed=MathReasoning(steps=[Step(explaination='First, solve the operation inside the parentheses: (3 - 2).', output='3 - 2 = 1'), Step(explaination='Now replace the parentheses with the result, the expression becomes 4 + 1 * 10 - 9 + 8.', output='4 + 1 * 10 - 9 + 8'), Step(explaination='Next, perform the multiplication before addition and subtraction according to the order of operations.', output='1 * 10 = 10'), Step(explaination='The expression now is 4 + 10 - 9 + 8. Perform addition and subtraction from left to right.', output='4 + 10 = 14'), Step(explaination='Continue with the next operation: 14 - 9.', output='14 - 9 = 5'), Step(explaination='Finally, add the last number: 5 + 8.', output='5 + 8 = 13')], final_answer='13'))\n"
     ]
    }
   ],
   "source": [
    "print(response.choices[0].message)"
   ]
  },
  {
   "cell_type": "markdown",
   "id": "c694608a",
   "metadata": {},
   "source": [
    "### Responses API"
   ]
  },
  {
   "cell_type": "code",
   "execution_count": 29,
   "id": "c231b38e",
   "metadata": {},
   "outputs": [
    {
     "name": "stdout",
     "output_type": "stream",
     "text": [
      "{\"steps\":[{\"explaination\":\"First, solve the expression inside the parentheses: (3 - 2) = 1.\",\"output\":\"4 + (1) * 10 - 9 + 8\"},{\"explaination\":\"Next, multiply the result from the parentheses by 10: 1 * 10 = 10.\",\"output\":\"4 + 10 - 9 + 8\"},{\"explaination\":\"Now, perform addition and subtraction from left to right: 4 + 10 = 14\",\"output\":\"14 - 9 + 8\"},{\"explaination\":\"Continue with subtraction: 14 - 9 = 5.\",\"output\":\"5 + 8\"},{\"explaination\":\"Finally, add 5 + 8 = 13.\",\"output\":\"13\"}],\"final_answer\":\"13\"}\n"
     ]
    }
   ],
   "source": [
    "response1 = client.responses.parse(\n",
    "    model = Model,\n",
    "    input = input1,\n",
    "    text_format = MathReasoning,\n",
    ")\n",
    "\n",
    "print(response1.output_text)"
   ]
  },
  {
   "cell_type": "markdown",
   "id": "aa8967a6",
   "metadata": {},
   "source": [
    "## 3. Multimodal Capabilities\n",
    "\n",
    "Skipped right now (vision, text to speech, speech to text, )"
   ]
  },
  {
   "cell_type": "markdown",
   "id": "494e539e",
   "metadata": {},
   "source": [
    "## 4. Function Calling (Tool calling)"
   ]
  },
  {
   "cell_type": "code",
   "execution_count": 3,
   "id": "2171d5f5",
   "metadata": {},
   "outputs": [],
   "source": [
    "import requests\n",
    "\n",
    "def get_weather(latitude, longitude):\n",
    "    response = requests.get(f\"https://api.open-meteo.com/v1/forecast?latitude={latitude}&longitude={longitude}&current=temperature_2m,wind_speed_10m&hourly=temperature_2m,relative_humidity_2m,wind_speed_10m\")\n",
    "    data = response.json()\n",
    "    return data['current']['temperature_2m']\n",
    "\n",
    "\n",
    "\n",
    "tools = [{\n",
    "    \"type\":\"function\",\n",
    "    \"name\":\"get_weather\",\n",
    "    \"description\":\"Get current temperature for provided coordinates in degree celsius\",\n",
    "    \"parameters\": {\n",
    "        \"type\":\"object\",\n",
    "        \"properties\":{\n",
    "            \"latitude\":{\"type\": \"number\"},\n",
    "            \"longitude\":{\"type\":\"number\"}\n",
    "        },\n",
    "        \"required\":[\"latitude\",\"longitude\"],\n",
    "        \"additionalProperties\": False \n",
    "    },\n",
    "    \"strict\":True\n",
    "}]"
   ]
  },
  {
   "cell_type": "code",
   "execution_count": 16,
   "id": "53d7cdcb",
   "metadata": {},
   "outputs": [],
   "source": [
    "input_messages = [{\"role\":\"user\", \"content\":\"What is the weather like in Delhi Today?\"}]\n",
    "\n",
    "response = client.responses.create(\n",
    "    model = \"gpt-4o\",\n",
    "    input = input_messages,\n",
    "    tools = tools,\n",
    ")"
   ]
  },
  {
   "cell_type": "code",
   "execution_count": 17,
   "id": "853336aa",
   "metadata": {},
   "outputs": [],
   "source": [
    "tool_call = response.output[0]\n",
    "args = json.loads(tool_call.arguments)\n",
    "\n",
    "result = get_weather(args['latitude'], args['longitude'])"
   ]
  },
  {
   "cell_type": "code",
   "execution_count": 18,
   "id": "1a4d921b",
   "metadata": {},
   "outputs": [
    {
     "name": "stdout",
     "output_type": "stream",
     "text": [
      "The current temperature in Delhi is 26.8°C.\n"
     ]
    }
   ],
   "source": [
    "# Appending the tool call and result to the input messages\n",
    "input_messages.append(tool_call)\n",
    "input_messages.append({\n",
    "    \"type\":\"function_call_output\",\n",
    "    \"call_id\": tool_call.call_id,\n",
    "    \"output\": str(result)\n",
    "})\n",
    "\n",
    "response_2 = client.responses.create(\n",
    "    model = \"gpt-4o\",\n",
    "    input = input_messages,\n",
    "    tools = tools,\n",
    "\n",
    ")\n",
    "print(response_2.output_text)\n"
   ]
  },
  {
   "cell_type": "markdown",
   "id": "4649c4cd",
   "metadata": {},
   "source": [
    "## 5. Reasoning Model"
   ]
  },
  {
   "cell_type": "markdown",
   "id": "0af85c49",
   "metadata": {},
   "source": [
    "Current Plan does not support Reasoning"
   ]
  },
  {
   "cell_type": "code",
   "execution_count": null,
   "id": "b3025885",
   "metadata": {},
   "outputs": [],
   "source": [
    "response_o4 = client.responses.create(\n",
    "    model = \"o4-mini\",\n",
    "    input = \"Explain how to implement a Machine Learning Project?\"\n",
    ")\n",
    "\n",
    "print(response_o4.output_text)"
   ]
  },
  {
   "cell_type": "markdown",
   "id": "82073962",
   "metadata": {},
   "source": [
    "## 6. Embeddings\n"
   ]
  },
  {
   "cell_type": "code",
   "execution_count": 20,
   "id": "69f4361d",
   "metadata": {},
   "outputs": [],
   "source": [
    "import numpy as np"
   ]
  },
  {
   "cell_type": "code",
   "execution_count": 27,
   "id": "1302b966",
   "metadata": {},
   "outputs": [],
   "source": [
    "words = [\n",
    "    \"Pranav\", \"King\", \"Mulitmodal\",\n",
    "    \"AI\", \"Ambition\", \"Queen\"\n",
    "]\n",
    "\n",
    "response = client.embeddings.create(\n",
    "    model = \"text-embedding-3-large\",\n",
    "    input = words,\n",
    "    encoding_format = \"float\"\n",
    ")\n"
   ]
  }
 ],
 "metadata": {
  "kernelspec": {
   "display_name": "Python 3",
   "language": "python",
   "name": "python3"
  },
  "language_info": {
   "codemirror_mode": {
    "name": "ipython",
    "version": 3
   },
   "file_extension": ".py",
   "mimetype": "text/x-python",
   "name": "python",
   "nbconvert_exporter": "python",
   "pygments_lexer": "ipython3",
   "version": "3.10.10"
  }
 },
 "nbformat": 4,
 "nbformat_minor": 5
}
